{
  "nbformat": 4,
  "nbformat_minor": 0,
  "metadata": {
    "colab": {
      "provenance": []
    },
    "kernelspec": {
      "name": "python3",
      "display_name": "Python 3"
    },
    "language_info": {
      "name": "python"
    }
  },
  "cells": [
    {
      "cell_type": "code",
      "execution_count": null,
      "metadata": {
        "id": "_bqIbAEToEZz"
      },
      "outputs": [],
      "source": []
    },
    {
      "cell_type": "markdown",
      "source": [
        "Data Types and Structures Questions\n"
      ],
      "metadata": {
        "id": "TAL5XX6ao_-c"
      }
    },
    {
      "cell_type": "markdown",
      "source": [
        "Q.1) What are data structures, and why are they important?\n",
        "\n",
        "Answer :- Data structures are ways to organize and store data so that it can be accessed and used efficiently.\n",
        "\n",
        "They help in efficient data storage and quick data retrieval.\n",
        "They allow for better performance in algorithms.\n",
        "They make solving complex problems easier and faster.\n",
        "\n"
      ],
      "metadata": {
        "id": "fyzDQrNrpBF4"
      }
    },
    {
      "cell_type": "markdown",
      "source": [
        "Q.2) Explain the difference between mutable and immutable data types with examples?\n",
        "\n",
        "Answer :-\n",
        "\n",
        "Mutable:\n",
        "These are data types whose values can be changed after they are created.\n",
        "\n",
        "\n",
        "Mutable example (List)\n",
        "\n",
        "my_list = [1, 2, 3]\n",
        "my_list[0] = 10  # We can change elements in the list\n",
        "print(my_list)  # Output: [10, 2, 3]\n",
        "\n",
        "\n",
        "Immutable:\n",
        "These are data types whose values cannot be changed after they are created.\n",
        "\n",
        "Example: String, Tuple, Integer\n",
        "\n",
        "\n",
        "\n",
        "Immutable example (String)\n",
        "\n",
        "my_string = \"Hello\"\n",
        "my_string[0] = \"h\"  # This will raise an error because strings are immutable"
      ],
      "metadata": {
        "id": "NIf9P1lopdLp"
      }
    },
    {
      "cell_type": "markdown",
      "source": [
        "Q.3) What are the main differences between lists and tuples in Python?\n",
        "\n",
        "Answer :- Lists are mutable, flexible, and used for collections that change.\n",
        "Tuples are immutable, faster, and used for fixed collections of items."
      ],
      "metadata": {
        "id": "hXhp6dayp_eA"
      }
    },
    {
      "cell_type": "markdown",
      "source": [
        "Q.4)  Describe how dictionaries store data?\n",
        "\n",
        "Answer :- Dictionaries store data in key-value pairs and provide efficient access, modification, and deletion of values based on their unique keys. They are ideal for situations where fast lookups are needed."
      ],
      "metadata": {
        "id": "mv_abFbUqNFg"
      }
    },
    {
      "cell_type": "markdown",
      "source": [
        "Q.5) Why might you use a set instead of a list in Python?\n",
        "\n",
        "Answer:- Set: Automatically removes duplicate values. Every element in a set is unique.\n",
        "List: Can contain duplicate values"
      ],
      "metadata": {
        "id": "_HNXxSlDqbIf"
      }
    },
    {
      "cell_type": "markdown",
      "source": [
        "Q.6)  What is a string in Python, and how is it different from a list?\n",
        "\n",
        "Answer :- Strings are used for text manipulation, while lists are used for managing collections of data."
      ],
      "metadata": {
        "id": "Z0NoJ3WsqphN"
      }
    },
    {
      "cell_type": "markdown",
      "source": [
        "Q.7)  How do tuples ensure data integrity in Python?\n",
        "\n",
        "Answer :- Tuples in Python are immutable, meaning once they are created, their contents cannot be changed (no adding, modifying, or removing elements). This immutability is what helps ensure data integrity."
      ],
      "metadata": {
        "id": "7rRYqrsuq7m9"
      }
    },
    {
      "cell_type": "markdown",
      "source": [
        "Q.9) Can lists contain different data types in Python?\n",
        "\n",
        "Answer :- Yes, lists can contain different data types. A single list can hold a mix of various types of elements, such as integers, strings, floats, and even other lists or tuples."
      ],
      "metadata": {
        "id": "mRrMrNuKrNC9"
      }
    },
    {
      "cell_type": "markdown",
      "source": [
        "Q.10)  Explain why strings are immutable in Python?\n",
        "\n",
        "Answer :- Strings are immutable in Python for reasons related to memory efficiency, data integrity, hashability, and thread safety. This immutability helps Python optimize performance and provides stability and predictability when working with string data."
      ],
      "metadata": {
        "id": "Qj9EdHtWre-B"
      }
    },
    {
      "cell_type": "markdown",
      "source": [
        "Q.11) What advantages do dictionaries offer over lists for certain tasks?\n",
        "\n",
        "Answer :- Dictionaries provide fast lookups by key, enforce unique keys, allow you to use descriptive keys for better clarity, and efficiently store and manipulate data with multiple attributes.\n",
        "\n",
        "Lists are more suitable for ordered collections of similar items, while dictionaries excel when you need fast access by key, flexible data structures, and the ability to associate key-value pairs.\n",
        "\n",
        "Therefore, if your task requires quick data access by a unique identifier, structured data, or associative arrays, dictionaries are often the better choice."
      ],
      "metadata": {
        "id": "dlO4pYnWrwTH"
      }
    },
    {
      "cell_type": "markdown",
      "source": [
        "Q.12)  Describe a scenario where using a tuple would be preferable over a list?\n",
        "\n",
        "Answer :- Imagine you need to store a date (like someone's birthdate) in your program. A date has three fixed components: year, month, and day.\n",
        "\n",
        "\n",
        "Using a tuple would be better than a list in this case for the following reasons:\n",
        "\n",
        "\n",
        "The data doesn't change: Once a birthdate is set, it doesn't change. A tuple ensures the data remains immutable (unchangeable). If you try to accidentally change a value, it will raise an error.\n",
        "\n",
        "\n",
        "It makes the data safer: Since tuples can't be changed, you avoid accidentally modifying a birthdate or any other important fixed data.\n",
        "\n",
        "\n",
        "Efficiency: Tuples use less memory than lists because they are immutable, making them more efficient when you have a lot of fixed data like dates.\n",
        "\n"
      ],
      "metadata": {
        "id": "FBJbh9pEsPpP"
      }
    },
    {
      "cell_type": "markdown",
      "source": [
        "Q.13) How do sets handle duplicate values in Python?\n",
        "\n",
        "Answer :- Sets automatically remove duplicates. A set is an unordered collection of unique elements. If you try to add duplicate values to a set, only one instance of each unique value will be stored."
      ],
      "metadata": {
        "id": "k3twGx5Rs4Gh"
      }
    },
    {
      "cell_type": "markdown",
      "source": [
        "Q.14)  How does the “in” keyword work differently for lists and dictionaries?\n",
        "\n",
        "Answer :- For lists, in checks if an element is in the list, and it searches through each item in the list.\n",
        "\n",
        "For dictionaries, in checks if a key is in the dictionary, and it performs a fast lookup based on keys."
      ],
      "metadata": {
        "id": "QGcZCCr5tGYD"
      }
    },
    {
      "cell_type": "markdown",
      "source": [],
      "metadata": {
        "id": "4Lk5hVxds0_Y"
      }
    },
    {
      "cell_type": "markdown",
      "source": [
        "Q.15) Can you modify the elements of a tuple? Explain why or why not?\n",
        "\n",
        "Answer :- Tuples are immutable in Python, meaning you cannot modify the elements of a tuple once it is created. However, if a tuple contains mutable elements (like lists), you can modify those elements. But you cannot change the structure of the tuple itself. This immutability ensures data integrity and allows tuples to be used as keys in dictionaries."
      ],
      "metadata": {
        "id": "oN0Eqwn8tQ-J"
      }
    },
    {
      "cell_type": "markdown",
      "source": [
        "Q.16)  What is a nested dictionary, and give an example of its use case?\n",
        "\n",
        "Answer :- A nested dictionary in Python is a dictionary where the value associated with a key is another dictionary. This allows you to store more complex, hierarchical data structures, where you can represent relationships between different pieces of data.\n",
        "\n",
        "Example :- Let's say you are building a system to store information about multiple students, and each student has their personal details and their grades in different subjects."
      ],
      "metadata": {
        "id": "JZ79d50OtdAK"
      }
    },
    {
      "cell_type": "markdown",
      "source": [
        "Q.18) In what situations are lists preferred over dictionaries?\n",
        "\n",
        "Answer :- Ordered data: When the order of elements is important.\n",
        "\n",
        "Duplicates: When you need to store multiple instances of the same value.\n",
        "\n",
        "Positional access: When you need to access elements by their index.\n",
        "\n",
        "Iteration: When you want to loop through elements in a predictable way.\n",
        "\n",
        "Bulk operations: When you need operations like sorting, slicing, or modifying the collection.\n",
        "\n",
        "No need for keys: When there’s no need to associate elements with specific identifiers (keys).\n",
        "\n",
        "No need for fast lookups: When fast access via keys isn't necessary.\n",
        "\n",
        "In these scenarios, lists are often the most intuitive and effective data structure to use."
      ],
      "metadata": {
        "id": "G4xdUmiOtyKv"
      }
    },
    {
      "cell_type": "markdown",
      "source": [
        "Q.19) Why are dictionaries considered unordered, and how does that affect data retrieval?\n",
        "\n",
        "Answer :- Dictionaries in Python are considered unordered because their elements (key-value pairs) are stored in an internal hash table, not in a specific order. The order in which the key-value pairs are stored is not guaranteed and may change depending on the Python version or how the dictionary is modified.\n",
        "\n",
        "In a dictionary, each key is mapped to a value via a hash function, which ensures fast lookups. However, this process doesn't preserve the order of insertion."
      ],
      "metadata": {
        "id": "6Urbz9-WuEh5"
      }
    },
    {
      "cell_type": "markdown",
      "source": [
        "Q.20) Explain the difference between a list and a dictionary in terms of data retrieval?\n",
        "\n",
        "Answer :- Lists are indexed by numbers (starting from 0), and you access their elements by index. This is efficient for retrieving elements by position but requires you to know the index of the element.\n",
        "\n",
        "Dictionaries store key-value pairs and you access elements by key. Retrieval in dictionaries is fast due to the use of hash tables, and they provide efficient access even when the dictionary contains a large number of elements. However, dictionaries do not maintain any order until Python 3.7+ (where insertion order is preserved)."
      ],
      "metadata": {
        "id": "PmcPLHpyuOK_"
      }
    },
    {
      "cell_type": "markdown",
      "source": [],
      "metadata": {
        "id": "RluUQBH9bYBg"
      }
    },
    {
      "cell_type": "markdown",
      "source": [
        "Practical Questions"
      ],
      "metadata": {
        "id": "kDrPuiH0bYnd"
      }
    },
    {
      "cell_type": "markdown",
      "source": [],
      "metadata": {
        "id": "0acdfuRuufqZ"
      }
    },
    {
      "cell_type": "markdown",
      "source": [
        "Q.1) Write a code to create a string with your name and print it?\n",
        "\n",
        "Answer :-\n",
        "\n",
        "a = \"Sanket\"\n",
        "\n",
        "print(a)"
      ],
      "metadata": {
        "id": "PYsEW028cDB6"
      }
    },
    {
      "cell_type": "markdown",
      "source": [
        " Q.2) Write a code to find the length of the string \"Hello World\"?\n",
        "\n",
        " Answer :-  \n",
        "\n",
        " a = \"Hello World\"\n",
        "\n",
        " print(len(a))"
      ],
      "metadata": {
        "id": "N-UAMvtKcEx0"
      }
    },
    {
      "cell_type": "markdown",
      "source": [
        "Q.3) Write a code to slice the first 3 characters from the string \"Python Programming\"?\n",
        "\n",
        "Answer :-  \n",
        "\n",
        "a = \"Python Programming\"\n",
        "\n",
        "print(a[:3])"
      ],
      "metadata": {
        "id": "YkmaVcUJcUkQ"
      }
    },
    {
      "cell_type": "markdown",
      "source": [
        "Q.4) Write a code to convert the string \"hello\" to uppercase?\n",
        "\n",
        "Answer :-  \n",
        "\n",
        "a = \"hello\"\n",
        "\n",
        "print(a.upper())\n"
      ],
      "metadata": {
        "id": "XLKRJranc_48"
      }
    },
    {
      "cell_type": "markdown",
      "source": [
        "Q.5) Write a code to replace the word \"apple\" with \"orange\" in the string \"I like apple\"?\n",
        "\n",
        "Answer :-  \n",
        "\n",
        "a = \" I like apple\"\n",
        "\n",
        "b = a.replace(\"apple,\"orange\")\n",
        "print(b)\n",
        "\n"
      ],
      "metadata": {
        "id": "xJVw4fcndZS0"
      }
    },
    {
      "cell_type": "markdown",
      "source": [
        "Q.6) Write a code to create a list with numbers 1 to 5 and print it?\n",
        "\n",
        "Answer :-  \n",
        "\n",
        "List = [1,2,3,4,5]\n",
        "\n",
        "print(List)\n"
      ],
      "metadata": {
        "id": "tAHKijQYeEI3"
      }
    },
    {
      "cell_type": "markdown",
      "source": [
        "Q.7)  Write a code to append the number 10 to the list [1, 2, 3, 4]?\n",
        "\n",
        "Answer :-  \n",
        "\n",
        "List = [1,2,3,4]\n",
        "\n",
        "a = list.append(10)\n",
        "\n",
        "print(a)"
      ],
      "metadata": {
        "id": "JddOlNGyeRsO"
      }
    },
    {
      "cell_type": "markdown",
      "source": [
        "Q.8) Write a code to remove the number 3 from the list [1, 2, 3, 4, 5]?\n",
        "\n",
        "Answer :-   \n",
        "\n",
        "list = [1,2,3,4,5]\n",
        "\n",
        "print(list.pop(2))"
      ],
      "metadata": {
        "id": "GO2GlTURe05h"
      }
    },
    {
      "cell_type": "markdown",
      "source": [
        "Q.9) Write a code to access the second element in the list ['a', 'b', 'c', 'd']?\n",
        "\n",
        "Answer :-   \n",
        "\n",
        "list = ['a', 'b', 'c', 'd']\n",
        "\n",
        "a = list[2]\n",
        "\n",
        "print(a)\n",
        "\n"
      ],
      "metadata": {
        "id": "CUZjwWfffFtT"
      }
    },
    {
      "cell_type": "markdown",
      "source": [
        "Q.10) Write a code to reverse the list [10, 20, 30, 40, 50]?\n",
        "\n",
        "Answer :-  \n",
        "\n",
        "a = [10, 20, 30, 40, 50]\n",
        "\n",
        "print(a[::-1])"
      ],
      "metadata": {
        "id": "Iujip_I9fa8-"
      }
    },
    {
      "cell_type": "markdown",
      "source": [],
      "metadata": {
        "id": "-dzTcQOpfuYD"
      }
    },
    {
      "cell_type": "markdown",
      "source": [
        "Q.11)  Write a code to create a tuple with the elements 100, 200, 300 and print it.?\n",
        "\n",
        "Answer :-   \n",
        " tuple = (100,200,300)\n",
        "\n",
        " print(type(tuple))"
      ],
      "metadata": {
        "id": "Q8_vprxCXv2b"
      }
    },
    {
      "cell_type": "markdown",
      "source": [
        "Q.12) Write a code to access the second-to-last element of the tuple ('red', 'green', 'blue', 'yellow')\n",
        "\n",
        "Answer:-   \n",
        "\n",
        "tuple =  ('red', 'green', 'blue', 'yellow')\n",
        "\n",
        "print(tuple[1:])"
      ],
      "metadata": {
        "id": "NZRLh7baYKRR"
      }
    },
    {
      "cell_type": "markdown",
      "source": [
        "Q.13)  Write a code to find the minimum number in the tuple (10, 20, 5, 15).?\n",
        "\n",
        "Answer :-   \n",
        "\n",
        "tuple = (10,20,5,15)\n",
        "\n",
        "print(min(tuple))"
      ],
      "metadata": {
        "id": "GKjJOgG9YdVz"
      }
    },
    {
      "cell_type": "markdown",
      "source": [
        "Q.14)  Write a code to find the index of the element \"cat\" in the tuple ('dog', 'cat', 'rabbit')?\n",
        "\n",
        "Answer :-    \n",
        "\n",
        "tuple = ('dog', 'cat', 'rabbit')\n",
        "\n",
        "a = tuple.index(\"cat\")\n",
        "\n",
        "print(a)"
      ],
      "metadata": {
        "id": "JfpZww_KY5kl"
      }
    },
    {
      "cell_type": "markdown",
      "source": [],
      "metadata": {
        "id": "LCOjWVKGZPGE"
      }
    },
    {
      "cell_type": "markdown",
      "source": [
        "Q.15)  Write a code to create a tuple containing three different fruits and check if \"kiwi\" is in it?\n",
        "\n",
        "Answer :-   \n",
        "\n",
        "fruits = (\"apple\", \"banana\", \"orange\")\n",
        "\n",
        "if \"kiwi\" in fruits:\n",
        "    print(\"Kiwi is in the tuple.\")\n",
        "\n",
        "else:\n",
        "    print(\"Kiwi is not in the tuple.\")"
      ],
      "metadata": {
        "id": "tyVN3ZQnZsAN"
      }
    },
    {
      "cell_type": "markdown",
      "source": [
        "Q.16) Write a code to create a set with the elements 'a', 'b', 'c' and print it?\n",
        "\n",
        "Answer :-   \n",
        "\n",
        "set = {\"a\",\"b\",\"c\"}\n",
        "\n",
        "print(set)"
      ],
      "metadata": {
        "id": "DaJ4jmaLZ0DS"
      }
    },
    {
      "cell_type": "markdown",
      "source": [
        "Q.17) Write a code to clear all elements from the set {1, 2, 3, 4, 5}\n",
        "\n",
        "\n",
        "Answer :-    \n",
        "\n",
        "set = {1,2,3,4,5}\n",
        "\n",
        "print(set.clear())\n",
        "\n"
      ],
      "metadata": {
        "id": "AcuZD3T5aHiz"
      }
    },
    {
      "cell_type": "markdown",
      "source": [
        "Q.18)  Write a code to remove the element 4 from the set {1, 2, 3, 4}.\n",
        "\n",
        "\n",
        "Answer :-  \n",
        "\n",
        "\n",
        "set = {1,2,3,4}\n",
        "\n",
        "set.remove(3)\n",
        "\n",
        "print(set)"
      ],
      "metadata": {
        "id": "GyLQ0G9nabpo"
      }
    },
    {
      "cell_type": "markdown",
      "source": [
        "Q.19) Write a code to find the union of two sets {1, 2, 3} and {3, 4, 5}.\n",
        "\n",
        "Answer:-   \n",
        "\n",
        "set1 = {1,2,3}\n",
        "set2 = {3,4,5}\n",
        "\n",
        "new_set = set1.union(set2)\n",
        "\n",
        "print(new_set)"
      ],
      "metadata": {
        "id": "H2pPVpQUa6wy"
      }
    },
    {
      "cell_type": "markdown",
      "source": [
        "Q.20) Write a code to find the intersection of two sets {1, 2, 3} and {2, 3, 4}\n",
        "\n",
        "Answer :-  \n",
        "\n",
        "set1 = {1, 2, 3}\n",
        "set2 = {2, 3, 4}\n",
        "\n",
        "intersection_set = set1.intersection(set2)\n",
        "\n",
        "print(intersection_set)\n"
      ],
      "metadata": {
        "id": "PY9t_3pRbhFv"
      }
    },
    {
      "cell_type": "markdown",
      "source": [
        "Q.21) Write a code to create a dictionary with the keys \"name\", \"age\", and \"city\", and print it.?\n",
        "\n",
        "Answer :-   \n",
        "\n",
        "dic = { \"name\" : \"Sanket\",\"age\": 24, \"city\" : \"mumbai\" }\n",
        "print(dic)"
      ],
      "metadata": {
        "id": "-vWADtVtcEib"
      }
    },
    {
      "cell_type": "markdown",
      "source": [
        "Q.22)  Write a code to add a new key-value pair \"country\": \"USA\" to the dictionary {'name': 'John', 'age': 25}\n",
        "\n",
        "Answer :-  \n",
        "\n",
        "dic = {'name': 'John', 'age': 25}\n",
        "\n",
        "my_dict['country'] = 'USA'\n",
        "\n",
        "print(my_dict)"
      ],
      "metadata": {
        "id": "L1f-LQqUiSZg"
      }
    },
    {
      "cell_type": "markdown",
      "source": [
        "Q.23) Write a code to access the value associated with the key \"name\" in the dictionary {'name': 'Alice', 'age': 30}.\n",
        "\n",
        "Answer :-  \n",
        "\n",
        "dic =  {'name': 'Alice', 'age': 30}\n",
        "\n",
        "dic1 = dic[\"name\"]\n",
        "\n",
        "print(dic1)"
      ],
      "metadata": {
        "id": "AuVczpggihmT"
      }
    },
    {
      "cell_type": "markdown",
      "source": [
        "Q.24) Write a code to remove the key \"age\" from the dictionary {'name': 'Bob', 'age': 22, 'city': 'New York'}.\n",
        "\n",
        "Answer :-  \n",
        "\n",
        "\n",
        "my_dict = {'name': 'Bob', 'age': 22, 'city': 'New York'}\n",
        "\n",
        "del my_dict['age']\n",
        "\n",
        "print(my_dict)"
      ],
      "metadata": {
        "id": "yR3CMjugi7hb"
      }
    },
    {
      "cell_type": "markdown",
      "source": [
        "Q.25)  Write a code to check if the key \"city\" exists in the dictionary {'name': 'Alice', 'city': 'Paris'}.?\n",
        "\n",
        "Answer :-  \n",
        "\n",
        "my_dict = {'name': 'Alice', 'city': 'Paris'}\n",
        "\n",
        "if 'city' in my_dict:\n",
        "    print(\"The key 'city' exists in the dictionary.\")\n",
        "    \n",
        "else:\n",
        "    print(\"The key 'city' does not exist in the dictionary.\")\n",
        "    "
      ],
      "metadata": {
        "id": "vUgqyZ2UjD7y"
      }
    },
    {
      "cell_type": "markdown",
      "source": [
        "Q.26) Write a code to create a list, a tuple, and a dictionary, and print them all.?\n",
        "\n",
        "Answer :-   \n",
        "\n",
        "my_list = [1, 2, 3, 4, 5]\n",
        "\n",
        "print(\"List:\", my_list)\n",
        "\n",
        "\n",
        "\n",
        "my_tuple = (10, 20, 30, 40)\n",
        "\n",
        "print(\"Tuple:\", my_tuple)\n",
        "\n",
        "\n",
        "\n",
        "my_dict = {'name': 'Alice', 'age': 25, 'city': 'Paris'}\n",
        "\n",
        "print(\"Dictionary:\", my_dict)"
      ],
      "metadata": {
        "id": "Ktmv54e4joU4"
      }
    },
    {
      "cell_type": "markdown",
      "source": [
        "Q.27) Write a code to create a list of 5 random numbers between 1 and 100, sort it in ascending order, and print the\n",
        "result.(replaced)?\n",
        "\n",
        "Answer :-   \n",
        "\n",
        "import random\n",
        "\n",
        "random_numbers = [random.randint(1, 100) for _ in range(5)]\n",
        "\n",
        "random_numbers.sort()\n",
        "\n",
        "print(\"Sorted List:\", random_numbers)\n"
      ],
      "metadata": {
        "id": "tfj6JLDXj8K5"
      }
    },
    {
      "cell_type": "markdown",
      "source": [
        "Q.28) Write a code to create a list with strings and print the element at the third index.?\n",
        "\n",
        "Answer :-  \n",
        "\n",
        "my_list = [\"apple\", \"banana\", \"cherry\", \"date\", \"elderberry\"]\n",
        "\n",
        "print(\"Element at index 3:\", my_list[3])"
      ],
      "metadata": {
        "id": "u4US4P5xkS0d"
      }
    },
    {
      "cell_type": "markdown",
      "source": [
        "Q.29) Write a code to combine two dictionaries into one and print the result.?\n",
        "\n",
        "Answer :-  \n",
        "\n",
        "dict1 = {'name': 'Justin', 'age': 25}\n",
        "dict2 = {'city': 'Paris', 'country': 'France'}\n",
        "\n",
        "dict1.update(dict2)\n",
        "\n",
        "print(\"Combined Dictionary:\", dict1)\n"
      ],
      "metadata": {
        "id": "vkxdKmJ0kfZY"
      }
    },
    {
      "cell_type": "markdown",
      "source": [
        "Q.30)  Write a code to convert a list of strings into a set?\n",
        "\n",
        "Answer :-   \n",
        "\n",
        "my_list = [\"apple\", \"banana\", \"cherry\", \"apple\", \"orange\"]\n",
        "\n",
        "my_set = set(my_list)\n",
        "\n",
        "print(\"Converted Set:\", my_set)\n",
        "\n"
      ],
      "metadata": {
        "id": "IoocIT0jkxiw"
      }
    }
  ]
}